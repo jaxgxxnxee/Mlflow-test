{
 "cells": [
  {
   "cell_type": "code",
   "execution_count": 1,
   "id": "8fb4cfc9-e78b-4aef-a65c-d410f7d391ec",
   "metadata": {
    "tags": []
   },
   "outputs": [
    {
     "name": "stdout",
     "output_type": "stream",
     "text": [
      "Status code: 200\n",
      "Response: [0]\n"
     ]
    }
   ],
   "source": [
    "import requests\n",
    "import pandas as pd\n",
    "dataset = {\"columns\": [\"sepal length (cm)\", \"sepal width (cm)\", \"petal length (cm)\", \"petal width (cm)\"],\n",
    "           \"data\": [[5.1,3.5,1.4,0.2]]}\n",
    "input_df = pd.DataFrame(dataset['data'], columns=dataset['columns'])\n",
    "http_data = input_df.to_json(orient='split')\n",
    "\n",
    "r = requests.post(\"http://test-mlflow-server:5001/invocations\", http_data, headers = {'Content-type': 'application/json'})\n",
    "print(\"Status code:\", r.status_code)\n",
    "print(\"Response:\", r.text)"
   ]
  },
  {
   "cell_type": "code",
   "execution_count": null,
   "id": "657a47cf-2324-43e5-8597-e455272e352e",
   "metadata": {},
   "outputs": [],
   "source": []
  }
 ],
 "metadata": {
  "kernelspec": {
   "display_name": "Python 3 (ipykernel)",
   "language": "python",
   "name": "python3"
  },
  "language_info": {
   "codemirror_mode": {
    "name": "ipython",
    "version": 3
   },
   "file_extension": ".py",
   "mimetype": "text/x-python",
   "name": "python",
   "nbconvert_exporter": "python",
   "pygments_lexer": "ipython3",
   "version": "3.7.17"
  }
 },
 "nbformat": 4,
 "nbformat_minor": 5
}
